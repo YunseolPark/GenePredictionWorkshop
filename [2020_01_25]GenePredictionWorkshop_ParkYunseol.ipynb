{
  "nbformat": 4,
  "nbformat_minor": 0,
  "metadata": {
    "colab": {
      "name": "[2020.01.25]GenePredictionWorkshop-ParkYunseol.ipynb",
      "provenance": [],
      "collapsed_sections": [],
      "authorship_tag": "ABX9TyOE9pl/blGRdMWqaxYJ05w0",
      "include_colab_link": true
    },
    "kernelspec": {
      "name": "python3",
      "display_name": "Python 3"
    }
  },
  "cells": [
    {
      "cell_type": "markdown",
      "metadata": {
        "id": "view-in-github",
        "colab_type": "text"
      },
      "source": [
        "<a href=\"https://colab.research.google.com/github/YunseolPark/GenePredictionWorkshop/blob/main/%5B2020_01_25%5DGenePredictionWorkshop_ParkYunseol.ipynb\" target=\"_parent\"><img src=\"https://colab.research.google.com/assets/colab-badge.svg\" alt=\"Open In Colab\"/></a>"
      ]
    },
    {
      "cell_type": "markdown",
      "metadata": {
        "id": "oDrlhzlmSo9U"
      },
      "source": [
        "# **Translation Initiation Site Prediction Using Synthetic Datasets**\r\n",
        "\r\n",
        "\r\n",
        "---\r\n",
        "\r\n",
        "Prediction of translation initiation sites (TISs) can give insight into translation and the proteins synthesized by certain mRNAs. Thus, it is important for genome analysis.\r\n",
        "\r\n",
        "We take a look at a prediction model and some feature analysis methods to study more indepth on this topic\r\n",
        "\r\n",
        "## Building a prediction model"
      ]
    },
    {
      "cell_type": "code",
      "metadata": {
        "id": "e6aVlnslShTR"
      },
      "source": [
        "import numpy as np\r\n",
        "import torch\r\n",
        "import random\r\n",
        "from torch.utils.data.dataset import Dataset\r\n",
        "\r\n",
        "class TISDataset(Dataset):\r\n",
        "    \"\"\"\r\n",
        "    Class to generate TIS dataset for dataloader\r\n",
        "    \"\"\"\r\n",
        "\r\n",
        "    def read_dna(self, file, class_id):\r\n",
        "        \"\"\"\r\n",
        "        Reads DNA files and save to a list of sequences\r\n",
        "\r\n",
        "        Args:\r\n",
        "            file: file that contains DNA sequences\r\n",
        "            class_id: class of the sequence file (positive: 1, negative: 0)\r\n",
        "        Return:\r\n",
        "            List that contains tuples consisting of a sequence and class id for the given file\r\n",
        "        \"\"\"\r\n",
        "        dna_list = []\r\n",
        "        # read and save file as a list with the corresponding class\r\n",
        "        for line in open(file):\r\n",
        "            dna_list.append((line.strip(), class_id))\r\n",
        "        return dna_list\r\n",
        "\r\n",
        "    def __init__(self, pos_data, neg_data):\r\n",
        "        # Make a list of DNA with class id\r\n",
        "        self.dna_list = self.read_dna(pos_data, 1)      # Positive: 1\r\n",
        "        self.dna_list.extend(self.read_dna(neg_data, 0))    # Negative: 0\r\n",
        "        self.data_len = len(self.dna_list)\r\n",
        "        #self.test_len = self.__len__()\r\n",
        "        #self.train_len = 4 // self.test_len * 5\r\n",
        "\r\n",
        "    def __getitem__(self, index):\r\n",
        "        # Read data\r\n",
        "        dna_data, label = self.dna_list[index]\r\n",
        "        # Convert AGCT to 0123, N is treated as A (92 Ns)\r\n",
        "        n = random.randint(0, 3)\r\n",
        "        dna = {'A': 0, 'G': 1, 'C': 2, 'T': 3, 'N': n}\r\n",
        "        # Assign values\r\n",
        "        one_hot = np.zeros((4, len(dna_data)))\r\n",
        "        for i, nuc in enumerate(dna_data):\r\n",
        "            one_hot[dna[nuc], i] = 1\r\n",
        "        # Convert numpy to tensor\r\n",
        "        tensor_dna = torch.from_numpy(one_hot).float()\r\n",
        "        return tensor_dna, label\r\n",
        "\r\n",
        "    def __len__(self):\r\n",
        "        return self.data_len"
      ],
      "execution_count": null,
      "outputs": []
    },
    {
      "cell_type": "code",
      "metadata": {
        "id": "u0CkVuYKS7Oo"
      },
      "source": [
        ""
      ],
      "execution_count": null,
      "outputs": []
    }
  ]
}